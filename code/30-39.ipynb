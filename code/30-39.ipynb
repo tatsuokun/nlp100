{
 "cells": [
  {
   "cell_type": "code",
   "execution_count": 30,
   "metadata": {
    "collapsed": false
   },
   "outputs": [],
   "source": [
    "f = open('../data/neko.txt.mecab','r')\n",
    "i = 0\n",
    "dict = []\n",
    "with f:\n",
    "    for item in f:\n",
    "        #print(item)\n",
    "        surface = item.split('\\t')[0]\n",
    "        if not 'EOS' in surface:\n",
    "            base = item.split(',')[6]\n",
    "            pos = item.split('\\t')[1].split(',')[0]\n",
    "            pos1 = item.split(',')[1]\n",
    "            dict.append({\"表層形\":surface, \"基本形\":base, \"品詞\":pos, \"品詞細分類1\":pos1}) #30\n",
    "        i = i + 1"
   ]
  },
  {
   "cell_type": "code",
   "execution_count": 44,
   "metadata": {
    "collapsed": false
   },
   "outputs": [
    {
     "ename": "TypeError",
     "evalue": "'list' object is not callable",
     "output_type": "error",
     "traceback": [
      "\u001b[0;31m---------------------------------------------------------------------------\u001b[0m",
      "\u001b[0;31mTypeError\u001b[0m                                 Traceback (most recent call last)",
      "\u001b[0;32m<ipython-input-44-218e6a654be3>\u001b[0m in \u001b[0;36m<module>\u001b[0;34m()\u001b[0m\n\u001b[1;32m     22\u001b[0m \u001b[0mt\u001b[0m \u001b[0;34m=\u001b[0m \u001b[0;34m[\u001b[0m\u001b[0mitem\u001b[0m\u001b[0;34m[\u001b[0m\u001b[0;34m\"表層形\"\u001b[0m\u001b[0;34m]\u001b[0m \u001b[0;32mfor\u001b[0m \u001b[0mitem\u001b[0m \u001b[0;32min\u001b[0m \u001b[0mdict\u001b[0m\u001b[0;34m]\u001b[0m\u001b[0;34m\u001b[0m\u001b[0m\n\u001b[1;32m     23\u001b[0m \u001b[0;34m\u001b[0m\u001b[0m\n\u001b[0;32m---> 24\u001b[0;31m \u001b[0msorted_tango\u001b[0m \u001b[0;34m=\u001b[0m \u001b[0msorted\u001b[0m\u001b[0;34m(\u001b[0m\u001b[0mt\u001b[0m\u001b[0;34m)\u001b[0m\u001b[0;34m\u001b[0m\u001b[0m\n\u001b[0m\u001b[1;32m     25\u001b[0m \u001b[0mhash\u001b[0m \u001b[0;34m=\u001b[0m \u001b[0;34m{\u001b[0m\u001b[0;34m}\u001b[0m\u001b[0;34m\u001b[0m\u001b[0m\n\u001b[1;32m     26\u001b[0m \u001b[0mcurrent\u001b[0m \u001b[0;34m=\u001b[0m \u001b[0msorted_tango\u001b[0m\u001b[0;34m[\u001b[0m\u001b[0;36m0\u001b[0m\u001b[0;34m]\u001b[0m\u001b[0;34m\u001b[0m\u001b[0m\n",
      "\u001b[0;31mTypeError\u001b[0m: 'list' object is not callable"
     ]
    }
   ],
   "source": [
    "meisi = \"\"\n",
    "id = 0\n",
    "'''\n",
    "for i in range(len(dict)):\n",
    "    \n",
    "    if dict[i][\"品詞\"] == \"名詞\":\n",
    "        meisi = meisi + dict[i][\"表層形\"]\n",
    "    else:\n",
    "        if meisi != \"\":\n",
    "            print(\"#35 名詞 : \" + meisi)\n",
    "            meisi = \"\"\n",
    "    if dict[i][\"品詞細分類1\"] == \"連体化\" and dict[i][\"表層形\"] == \"の\" and i - 1 >= 0 and i + 1 < len(dict):\n",
    "        if dict[i-1][\"品詞\"] == dict[i+1][\"品詞\"] == \"名詞\":\n",
    "            print(\"#34 \"+dict[i-1][\"表層形\"]+\"の\"+dict[i+1][\"表層形\"])  \n",
    "    if dict[i][\"品詞\"] == \"動詞\":\n",
    "        print(\"#31 \" + dict[i][\"表層形\"])#31\n",
    "        print(\"#32 \" + dict[i][\"基本形\"])#32\n",
    "    elif dict[i][\"品詞細分類1\"] == \"サ変接続\" and dict[i][\"品詞\"] == \"名詞\":\n",
    "        #print(\"#33 \" + dict[i][\"表層形\"])#33\n",
    "'''\n",
    "\n",
    "t = [item[\"表層形\"] for item in dict]\n",
    "\n",
    "sorted_tango = sorted(t)\n",
    "hash = {}\n",
    "current = sorted_tango[0]\n",
    "cnt = 1\n",
    "for item in sorted_tango[1:]:\n",
    "    if current != item:\n",
    "        hash[current] = cnt\n",
    "        cnt = 1\n",
    "        current = item\n",
    "    else:\n",
    "        cnt = cnt + 1\n",
    "\n",
    "        \n",
    "for k, v in sorted(hash.items(),key=lambda x:x[1], reverse=True):\n",
    "    print(k,v) # 36\n"
   ]
  }
 ],
 "metadata": {
  "kernelspec": {
   "display_name": "Python 3",
   "language": "python",
   "name": "python3"
  },
  "language_info": {
   "codemirror_mode": {
    "name": "ipython",
    "version": 3
   },
   "file_extension": ".py",
   "mimetype": "text/x-python",
   "name": "python",
   "nbconvert_exporter": "python",
   "pygments_lexer": "ipython3",
   "version": "3.4.4"
  }
 },
 "nbformat": 4,
 "nbformat_minor": 0
}
