{
 "cells": [
  {
   "cell_type": "code",
   "execution_count": 2,
   "metadata": {
    "collapsed": false,
    "scrolled": false
   },
   "outputs": [],
   "source": [
    "import json\n",
    "f = open('../data/jawiki-country.json', 'r')\n",
    "i = 0\n",
    "\n",
    "for item in f:\n",
    "    data = json.loads(item)\n",
    "    if data['title'] == 'イギリス':\n",
    "        #print(data)\n",
    "        #print(data['text']) #20\n",
    "        text= data['text']\n",
    "    i = i + 1"
   ]
  },
  {
   "cell_type": "code",
   "execution_count": 3,
   "metadata": {
    "collapsed": false
   },
   "outputs": [
    {
     "name": "stdout",
     "output_type": "stream",
     "text": [
      "[[Category:イギリス|*]]\n",
      "イギリス\n",
      "[[Category:英連邦王国|*]]\n",
      "英連邦王国\n",
      "[[Category:G8加盟国]]\n",
      "G8加盟国\n",
      "[[Category:欧州連合加盟国]]\n",
      "欧州連合加盟国\n",
      "[[Category:海洋国家]]\n",
      "海洋国家\n",
      "[[Category:君主国]]\n",
      "君主国\n",
      "[[Category:島国|くれいとふりてん]]\n",
      "島国くれいとふりてん\n",
      "[[Category:1801年に設立された州・地域]]\n",
      "1801年に設立された州・地域\n"
     ]
    }
   ],
   "source": [
    "import re\n",
    "for line in text.splitlines():\n",
    "    if \"Category\" in line:\n",
    "        print(line) #21\n",
    "        cate = line.split(\":\")[1]\n",
    "        pattern = re.compile('[|¥*]*]*')\n",
    "        print(pattern.sub(\"\",cate)) # 22"
   ]
  },
  {
   "cell_type": "code",
   "execution_count": 4,
   "metadata": {
    "collapsed": false
   },
   "outputs": [],
   "source": [
    "for line in text.splitlines():\n",
    "    if \"==\" in line:\n",
    "        #print(line)\n",
    "        i = 1\n",
    "        level = 0\n",
    "        while line[i] == \"=\":\n",
    "            level += 1\n",
    "            i += 1\n",
    "        #print(level) # 23"
   ]
  },
  {
   "cell_type": "code",
   "execution_count": 6,
   "metadata": {
    "collapsed": false
   },
   "outputs": [
    {
     "name": "stdout",
     "output_type": "stream",
     "text": [
      "Royal Coat of Arms of the United Kingdom.svg\n",
      "Battle of Waterloo 1815.PNG\n",
      "The British Empire.png\n",
      "Uk topo en.jpg\n",
      "BenNevis2005.jpg\n",
      "Elizabeth II greets NASA GSFC employees, May 8, 2007 edit.jpg\n",
      "Palace of Westminster, London - Feb 2007.jpg\n",
      "David Cameron and Barack Obama at the G20 Summit in Toronto.jpg\n",
      "Soldiers Trooping the Colour, 16th June 2007.jpg\n",
      "Scotland Parliament Holyrood.jpg\n",
      "London.bankofengland.arp.jpg\n",
      "City of London skyline from London City Hall - Oct 2008.jpg\n",
      "Oil platform in the North SeaPros.jpg\n",
      "Eurostar at St Pancras Jan 2008.jpg\n",
      "Heathrow T5.jpg\n",
      "Anglospeak.svg\n",
      "CHANDOS3.jpg\n",
      "The Fabs.JPG\n",
      "PalaceOfWestminsterAtNight.jpg\n",
      "Westminster Abbey - West Door.jpg\n",
      "Edinburgh Cockburn St dsc06789.jpg\n",
      "Canterbury Cathedral - Portal Nave Cross-spire.jpeg\n",
      "Kew Gardens Palm House, London - July 2009.jpg\n",
      "2005-06-27 - United Kingdom - England - London - Greenwich.jpg\n",
      "Stonehenge2007 07 30.jpg\n",
      "Yard2.jpg\n",
      "Durham Kathedrale Nahaufnahme.jpg\n",
      "Roman Baths in Bath Spa, England - July 2006.jpg\n",
      "Fountains Abbey view02 2005-08-27.jpg\n",
      "Blenheim Palace IMG 3673.JPG\n",
      "Liverpool Pier Head by night.jpg\n",
      "Hadrian's Wall view near Greenhead.jpg\n",
      "London Tower (1).JPG\n",
      "Wembley Stadium, illuminated.jpg\n"
     ]
    }
   ],
   "source": [
    "for line in text.splitlines():\n",
    "    if \"File\" in line or \"ファイル\" in line:\n",
    "        print(line.split(\":\")[1].split(\"|\")[0]) # 24\n"
   ]
  },
  {
   "cell_type": "code",
   "execution_count": 55,
   "metadata": {
    "collapsed": false
   },
   "outputs": [
    {
     "name": "stdout",
     "output_type": "stream",
     "text": [
      "略名 イギリス\n",
      "日本語国名 グレートブリテン及び北アイルランド連合王国\n",
      "公式国名 {{lang|en|United Kingdom of Great Britain and Northern Ireland}}<ref>英語以外での正式国名:<br/>\n",
      "国旗画像 Flag of the United Kingdom.svg\n",
      "国章画像 ファイル:Royal Coat of Arms of the United Kingdom.svg|85px|イギリスの国章\n",
      "国章リンク （イギリスの国章|国章）\n",
      "標語 {{lang|fr|Dieu et mon droit}}<br/>（フランス語:神と私の権利）\n",
      "国歌 女王陛下万歳|神よ女王陛下を守り給え\n",
      "位置画像 Location_UK_EU_Europe_001.svg\n",
      "公用語 英語（事実上）\n",
      "首都 ロンドン\n",
      "最大都市 ロンドン\n",
      "元首等肩書 イギリスの君主|女王\n",
      "元首等氏名 エリザベス2世\n",
      "首相等肩書 イギリスの首相|首相\n",
      "首相等氏名 デーヴィッド・キャメロン\n",
      "面積順位 76\n",
      "面積大きさ 1 E11\n",
      "面積値 244,820\n",
      "水面積率 1.3%\n",
      "人口統計年 2011\n",
      "人口順位 22\n",
      "人口大きさ 1 E7\n",
      "人口値 63,181,775<ref>[http://esa.un.org/unpd/wpp/Excel-Data/population.htm United Nations Department of Economic and Social Affairs>Population Division>Data>Population>Total Population]</ref>\n",
      "人口密度値 246\n",
      "GDP統計年元 2012\n",
      "GDP値元 1兆5478億<ref name=\"imf-statistics-gdp\">[http://www.imf.org/external/pubs/ft/weo/2012/02/weodata/weorept.aspx?pr.x=70&pr.y=13&sy=2010&ey=2012&scsm=1&ssd=1&sort=country&ds=.&br=1&c=112&s=NGDP%2CNGDPD%2CPPPGDP%2CPPPPC&grp=0&a= IMF>Data and Statistics>World Economic Outlook Databases>By Countrise>United Kingdom]</ref>\n",
      "GDP統計年MER 2012\n",
      "GDP順位MER 5\n",
      "GDP値MER 2兆4337億<ref name=\"imf-statistics-gdp\" />\n",
      "GDP統計年 2012\n",
      "GDP順位 6\n",
      "GDP値 2兆3162億<ref name=\"imf-statistics-gdp\" />\n",
      "GDP/人 36,727<ref name=\"imf-statistics-gdp\" />\n",
      "建国形態 建国\n",
      "確立形態1 イングランド王国／スコットランド王国<br />（両国とも連合法 (1707年)|1707年連合法まで）\n",
      "確立年月日1 927年／843年\n",
      "確立形態2 グレートブリテン王国建国<br />（連合法 (1707年)|1707年連合法）\n",
      "確立年月日2 1707年\n",
      "確立形態3 グレートブリテン及びアイルランド連合王国建国<br />（連合法 (1800年)|1800年連合法）\n",
      "確立年月日3 1801年\n",
      "確立形態4 現在の国号「グレートブリテン及び北アイルランド連合王国」に変更\n",
      "確立年月日4 1927年\n",
      "通貨 スターリング・ポンド|UKポンド (&pound;)\n",
      "通貨コード GBP\n",
      "時間帯 ±0\n",
      "夏時間 +1\n",
      "ISO 3166-1 GB / GBR\n",
      "ccTLD .uk / .gb<ref>使用は.ukに比べ圧倒的少数。</ref>\n",
      "国際電話番号 44\n",
      "注記 <references />\n",
      "{'GDP統計年元': '2012', 'GDP値MER': '2兆4337億<ref name=\"imf-statistics-gdp\" />', '最大都市': 'ロンドン', 'GDP順位': '6', '公用語': '英語（事実上）', '水面積率': '1.3%', '建国形態': '建国', '人口順位': '22', '国旗画像': 'Flag of the United Kingdom.svg', '確立形態3': 'グレートブリテン及びアイルランド連合王国建国<br />（連合法 (1800年)|1800年連合法）', '面積順位': '76', '確立形態4': '現在の国号「グレートブリテン及び北アイルランド連合王国」に変更', '面積値': '244,820', 'GDP値元': '1兆5478億<ref name=\"imf-statistics-gdp\">[http://www.imf.org/external/pubs/ft/weo/2012/02/weodata/weorept.aspx?pr.x=70&pr.y=13&sy=2010&ey=2012&scsm=1&ssd=1&sort=country&ds=.&br=1&c=112&s=NGDP%2CNGDPD%2CPPPGDP%2CPPPPC&grp=0&a= IMF>Data and Statistics>World Economic Outlook Databases>By Countrise>United Kingdom]</ref>', '首相等氏名': 'デーヴィッド・キャメロン', '人口値': '63,181,775<ref>[http://esa.un.org/unpd/wpp/Excel-Data/population.htm United Nations Department of Economic and Social Affairs>Population Division>Data>Population>Total Population]</ref>', '通貨コード': 'GBP', '公式国名': '{{lang|en|United Kingdom of Great Britain and Northern Ireland}}<ref>英語以外での正式国名:<br/>', '人口大きさ': '1 E7', '国際電話番号': '44', '位置画像': 'Location_UK_EU_Europe_001.svg', '元首等氏名': 'エリザベス2世', 'GDP値': '2兆3162億<ref name=\"imf-statistics-gdp\" />', 'GDP統計年': '2012', 'GDP順位MER': '5', '確立年月日4': '1927年', '首都': 'ロンドン', '時間帯': '±0', 'ccTLD': '.uk / .gb<ref>使用は.ukに比べ圧倒的少数。</ref>', 'ISO 3166-1': 'GB / GBR', '国歌': '女王陛下万歳|神よ女王陛下を守り給え', '確立年月日1': '927年／843年', '元首等肩書': 'イギリスの君主|女王', '夏時間': '+1', '首相等肩書': 'イギリスの首相|首相', '略名': 'イギリス', '人口密度値': '246', '通貨': 'スターリング・ポンド|UKポンド (&pound;)', '国章リンク': '（イギリスの国章|国章）', '標語': '{{lang|fr|Dieu et mon droit}}<br/>（フランス語:神と私の権利）', '日本語国名': 'グレートブリテン及び北アイルランド連合王国', '国章画像': 'ファイル:Royal Coat of Arms of the United Kingdom.svg|85px|イギリスの国章', '面積大きさ': '1 E11', 'GDP統計年MER': '2012', '確立形態1': 'イングランド王国／スコットランド王国<br />（両国とも連合法 (1707年)|1707年連合法まで）', '確立年月日2': '1707年', '人口統計年': '2011', 'GDP/人': '36,727<ref name=\"imf-statistics-gdp\" />', '注記': '<references />', '確立形態2': 'グレートブリテン王国建国<br />（連合法 (1707年)|1707年連合法）', '確立年月日3': '1801年'}\n"
     ]
    }
   ],
   "source": [
    "dic = {}\n",
    "for line in text.splitlines():\n",
    "    if re.search('^[|]',line):\n",
    "        if re.search('\\s\\=\\s',line):\n",
    "            line = re.sub('^[|]',\"\",line)\n",
    "            a = re.split('\\s\\=\\s',line)\n",
    "            a[1] = re.sub('\\'',\"\",a[1])\n",
    "            a[1] = re.sub('\\[\\[',\"\",a[1])\n",
    "            a[1] = re.sub('\\]\\]',\"\",a[1])\n",
    "            dic[a[0]] = a[1] # 25\n",
    "            print(a[0],a[1])\n",
    "print(dic)"
   ]
  },
  {
   "cell_type": "code",
   "execution_count": null,
   "metadata": {
    "collapsed": true
   },
   "outputs": [],
   "source": []
  }
 ],
 "metadata": {
  "kernelspec": {
   "display_name": "Python 3",
   "language": "python",
   "name": "python3"
  },
  "language_info": {
   "codemirror_mode": {
    "name": "ipython",
    "version": 3
   },
   "file_extension": ".py",
   "mimetype": "text/x-python",
   "name": "python",
   "nbconvert_exporter": "python",
   "pygments_lexer": "ipython3",
   "version": "3.4.4"
  }
 },
 "nbformat": 4,
 "nbformat_minor": 0
}
